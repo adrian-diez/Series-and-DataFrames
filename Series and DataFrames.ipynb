{
 "cells": [
  {
   "cell_type": "code",
   "execution_count": 4,
   "metadata": {},
   "outputs": [],
   "source": [
    "import pandas as pd"
   ]
  },
  {
   "cell_type": "code",
   "execution_count": 5,
   "metadata": {},
   "outputs": [],
   "source": [
    "#Create a series:\n",
    "birthdays = [2, 3, 8]\n",
    "years = [2020, 2021, 2022]\n",
    "series = pd.Series(birthdays, index = years)"
   ]
  },
  {
   "cell_type": "code",
   "execution_count": 6,
   "metadata": {},
   "outputs": [
    {
     "name": "stdout",
     "output_type": "stream",
     "text": [
      "2020    2\n",
      "2021    3\n",
      "2022    8\n",
      "dtype: int64\n"
     ]
    }
   ],
   "source": [
    "#show series\n",
    "print(series)"
   ]
  },
  {
   "cell_type": "code",
   "execution_count": 7,
   "metadata": {},
   "outputs": [],
   "source": [
    "#Create a series from a dictionary\n",
    "oscars = {\n",
    "    1994: ['Tom Hardy', 'NPH'],\n",
    "    1995: 'Leonardo diCaprio',\n",
    "    1996: 'Henry Cavill'\n",
    "}\n",
    "\n",
    "series = pd.Series(oscars)"
   ]
  },
  {
   "cell_type": "code",
   "execution_count": 8,
   "metadata": {},
   "outputs": [
    {
     "name": "stdout",
     "output_type": "stream",
     "text": [
      "1994     [Tom Hardy, NPH]\n",
      "1995    Leonardo diCaprio\n",
      "1996         Henry Cavill\n",
      "dtype: object\n"
     ]
    }
   ],
   "source": [
    "#show series\n",
    "print(series)"
   ]
  },
  {
   "cell_type": "code",
   "execution_count": 10,
   "metadata": {},
   "outputs": [],
   "source": [
    "#You can operate over a series with an array of the same length:\n",
    "\n",
    "series3 = pd.Series({\n",
    "    0: 10,\n",
    "    1: 20,\n",
    "    2: 30,\n",
    "    3: 40\n",
    "})\n",
    "\n",
    "series4 = pd.Series([\n",
    "    2,\n",
    "    3,\n",
    "    4,\n",
    "    5\n",
    "])\n",
    "\n",
    "sum = series3 + series4\n",
    "mult = series3 * series4"
   ]
  },
  {
   "cell_type": "code",
   "execution_count": 11,
   "metadata": {},
   "outputs": [
    {
     "name": "stdout",
     "output_type": "stream",
     "text": [
      "0    12\n",
      "1    23\n",
      "2    34\n",
      "3    45\n",
      "dtype: int64\n"
     ]
    }
   ],
   "source": [
    "print(sum)"
   ]
  },
  {
   "cell_type": "code",
   "execution_count": 12,
   "metadata": {},
   "outputs": [
    {
     "name": "stdout",
     "output_type": "stream",
     "text": [
      "0     20\n",
      "1     60\n",
      "2    120\n",
      "3    200\n",
      "dtype: int64\n"
     ]
    }
   ],
   "source": [
    "print(mult)"
   ]
  },
  {
   "cell_type": "code",
   "execution_count": 16,
   "metadata": {},
   "outputs": [],
   "source": [
    "#DATAFRAMES: 2D data structure\n",
    "series_by_person = {\n",
    "    'people': pd.Series(['Andrea', 'Daniel', 'Adrian']),\n",
    "    'films': pd.Series([['Stranger Things', 'Peaky Blinders'], 'The Good Place', ['The Mole','The Magicians', 'Bridgerton']])\n",
    "}\n",
    "\n",
    "df1 = pd.DataFrame(series_by_person)"
   ]
  },
  {
   "cell_type": "code",
   "execution_count": 17,
   "metadata": {},
   "outputs": [
    {
     "name": "stdout",
     "output_type": "stream",
     "text": [
      "   people                                  films\n",
      "0  Andrea      [Stranger Things, Peaky Blinders]\n",
      "1  Daniel                         The Good Place\n",
      "2  Adrian  [The Mole, The Magicians, Bridgerton]\n"
     ]
    }
   ],
   "source": [
    "print(df1)"
   ]
  },
  {
   "cell_type": "code",
   "execution_count": 18,
   "metadata": {},
   "outputs": [],
   "source": [
    "#more easily done with a dict of keys (same ones) and values\n",
    "\n",
    "my_dict_list =[ {\n",
    "    'a': 2,\n",
    "    'b': 3,\n",
    "    'c': 56,\n",
    "    'e': 45\n",
    "    },\n",
    "    {\n",
    "    'a': 4,\n",
    "    'b': 2,\n",
    "    'd': 12,\n",
    "    'e': 4,\n",
    "    'f': 23\n",
    "    }\n",
    "]"
   ]
  },
  {
   "cell_type": "code",
   "execution_count": 19,
   "metadata": {},
   "outputs": [
    {
     "name": "stdout",
     "output_type": "stream",
     "text": [
      "   a  b     c   e     d     f\n",
      "0  2  3  56.0  45   NaN   NaN\n",
      "1  4  2   NaN   4  12.0  23.0\n"
     ]
    }
   ],
   "source": [
    "df2 = pd.DataFrame(my_dict_list)\n",
    "    \n",
    "print(df2) #Observe how keys without values return NaN"
   ]
  },
  {
   "cell_type": "code",
   "execution_count": null,
   "metadata": {},
   "outputs": [],
   "source": [
    "#Commands to extract data from files:\n",
    "\n",
    "#From .csv --> pd.read_csv(csv_path)\n",
    "#From .xlsx --> pd_read_excel(xlsx_path)"
   ]
  }
 ],
 "metadata": {
  "kernelspec": {
   "display_name": "Python 3",
   "language": "python",
   "name": "python3"
  },
  "language_info": {
   "codemirror_mode": {
    "name": "ipython",
    "version": 3
   },
   "file_extension": ".py",
   "mimetype": "text/x-python",
   "name": "python",
   "nbconvert_exporter": "python",
   "pygments_lexer": "ipython3",
   "version": "3.7.6"
  }
 },
 "nbformat": 4,
 "nbformat_minor": 4
}
